{
  "nbformat": 4,
  "nbformat_minor": 0,
  "metadata": {
    "colab": {
      "provenance": []
    },
    "kernelspec": {
      "name": "python3",
      "display_name": "Python 3"
    },
    "language_info": {
      "name": "python"
    }
  },
  "cells": [
    {
      "cell_type": "markdown",
      "source": [
        "#Langchain"
      ],
      "metadata": {
        "id": "8lTXqydCNXQb"
      }
    },
    {
      "cell_type": "code",
      "execution_count": null,
      "metadata": {
        "id": "BNrRvKhXq_E0"
      },
      "outputs": [],
      "source": [
        "!pip install chromadb sentence-transformers\n",
        "!pip install langchain_groq langchain_core langchain_community pypdf"
      ]
    },
    {
      "cell_type": "code",
      "source": [
        "from langchain.embeddings import HuggingFaceBgeEmbeddings\n",
        "from langchain_groq import ChatGroq\n",
        "from langchain.document_loaders import DirectoryLoader , PyPDFLoader, CSVLoader\n",
        "from langchain.vectorstores import Chroma\n",
        "from langchain.chains import RetrievalQA\n",
        "from langchain.prompts import PromptTemplate\n",
        "from langchain.text_splitter import RecursiveCharacterTextSplitter\n",
        "import os\n",
        "\n",
        "def initialize_llm():\n",
        "  llm=ChatGroq(\n",
        "      temperature=0,\n",
        "      groq_api_key='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',\n",
        "      model_name='mixtral-8x7b-32768'\n",
        "  )\n",
        "  return llm\n",
        "\n",
        "llm = initialize_llm()"
      ],
      "metadata": {
        "id": "_SFFaDPgv67J"
      },
      "execution_count": null,
      "outputs": []
    },
    {
      "cell_type": "markdown",
      "source": [
        "##Langchain Main"
      ],
      "metadata": {
        "id": "rdrRSHFOK9-N"
      }
    },
    {
      "cell_type": "code",
      "source": [
        "from langchain.document_loaders import PyPDFLoader\n",
        "from langchain.agents import AgentType, initialize_agent\n",
        "from langchain.tools import Tool\n",
        "from langchain.memory import ConversationBufferMemory\n",
        "\n",
        "# Load and process document\n",
        "def load_document(file_path):\n",
        "    loader = PyPDFLoader(file_path)\n",
        "    pages = loader.load_and_split()\n",
        "    return pages\n",
        "\n",
        "# Store document in vector database\n",
        "def create_vector_store(pages):\n",
        "    embeddings=HuggingFaceBgeEmbeddings(model_name='sentence-transformers/all-MiniLM-L6-v2')\n",
        "    vector_store=Chroma.from_documents(pages,embeddings,persist_directory = './chroma_db')\n",
        "    vector_store.persist()\n",
        "    return vector_store\n",
        "\n",
        "def relevance_tool(question, retriever):\n",
        "    docs = retriever.get_relevant_documents(question)\n",
        "    return len(docs) > 0\n",
        "\n",
        "def retrieval_tool(question, retriever, top_k=3):\n",
        "    docs = retriever.get_relevant_documents(question)\n",
        "    return docs[:top_k]\n",
        "\n",
        "def answer_generation_tool(question, retrieved_docs, llm):\n",
        "    context = \"\\n\".join([doc.page_content for doc in retrieved_docs])\n",
        "    prompt = f\"Context: {context}\\n\\nQuestion: {question}\\n\\nAnswer:\"\n",
        "    return llm.predict(prompt)\n",
        "\n",
        "def validation_tool(answer):\n",
        "    return answer is not None and len(answer.strip()) > 0\n",
        "\n",
        "def feedback_tool(answer, vector_store):\n",
        "    user_feedback = input(\"Would you find this result helpful? (yes/no): \")\n",
        "    if user_feedback.lower() == \"yes\":\n",
        "        vector_store.add_texts([answer])\n",
        "        print(\"Feedback stored in vector database.\")\n",
        "    else:\n",
        "        print(\"Feedback not stored.\")\n",
        "\n",
        "def create_agents(retriever, llm, vector_store):\n",
        "    tools = [\n",
        "        Tool(name=\"Relevance Check\", func=lambda q: relevance_tool(q, retriever), description=\"Checks if the question is relevant to the document\"),\n",
        "        Tool(name=\"Retrieval\", func=lambda q: retrieval_tool(q, retriever), description=\"Retrieves the top 3 relevant documents\"),\n",
        "        Tool(name=\"Answer Generation\", func=lambda q: answer_generation_tool(q, retrieval_tool(q, retriever), llm), description=\"Generates an answer based on retrieved documents\"),\n",
        "        Tool(name=\"Validation\", func=lambda ans: validation_tool(ans), description=\"Validates the generated answer\"),\n",
        "        Tool(name=\"Feedback Storage\", func=lambda ans: feedback_tool(ans, vector_store), description=\"Stores correct answers in vector database if user approves\"),\n",
        "    ]\n",
        "    agent = initialize_agent(tools, llm, agent=AgentType.ZERO_SHOT_REACT_DESCRIPTION, verbose=True)\n",
        "    return agent\n",
        "\n",
        "from langchain_groq import ChatGroq\n",
        "\n",
        "def process_question(file_path, question):\n",
        "    pages = load_document(file_path)\n",
        "    vector_store = create_vector_store(pages)\n",
        "    retriever = vector_store.as_retriever()\n",
        "    agent = create_agents(retriever, llm, vector_store)\n",
        "    response = agent.run(question)\n",
        "    return response"
      ],
      "metadata": {
        "id": "IpTXe5nwrRix"
      },
      "execution_count": null,
      "outputs": []
    },
    {
      "cell_type": "code",
      "source": [
        "pip install pypdf"
      ],
      "metadata": {
        "colab": {
          "base_uri": "https://localhost:8080/"
        },
        "id": "t8r9SeI63zra",
        "outputId": "a88419b8-a422-46f2-85b6-c9395382f446"
      },
      "execution_count": null,
      "outputs": [
        {
          "output_type": "stream",
          "name": "stdout",
          "text": [
            "Requirement already satisfied: pypdf in /usr/local/lib/python3.11/dist-packages (5.3.1)\n"
          ]
        }
      ]
    },
    {
      "cell_type": "code",
      "source": [
        "pip install chromadb"
      ],
      "metadata": {
        "id": "VjaiumPmJkVC"
      },
      "execution_count": null,
      "outputs": []
    },
    {
      "cell_type": "code",
      "source": [
        "question = \"what are the acccounting qualities in tesla?\"\n",
        "result = process_question(\"/content/10-Q_-_Tesla_INC_-_10-24-2024.pdf\", question)\n",
        "print(result)"
      ],
      "metadata": {
        "colab": {
          "base_uri": "https://localhost:8080/"
        },
        "id": "8Q5fLkKNtBNJ",
        "outputId": "1111cff5-3263-4b9e-f144-a6989d6323d9"
      },
      "execution_count": null,
      "outputs": [
        {
          "output_type": "stream",
          "name": "stderr",
          "text": [
            "<ipython-input-3-ced51490cc5e>:14: LangChainDeprecationWarning: The class `HuggingFaceBgeEmbeddings` was deprecated in LangChain 0.2.2 and will be removed in 1.0. An updated version of the class exists in the :class:`~langchain-huggingface package and should be used instead. To use it run `pip install -U :class:`~langchain-huggingface` and import as `from :class:`~langchain_huggingface import HuggingFaceEmbeddings``.\n",
            "  embeddings=HuggingFaceBgeEmbeddings(model_name='sentence-transformers/all-MiniLM-L6-v2')\n",
            "/usr/local/lib/python3.11/dist-packages/huggingface_hub/utils/_auth.py:94: UserWarning: \n",
            "The secret `HF_TOKEN` does not exist in your Colab secrets.\n",
            "To authenticate with the Hugging Face Hub, create a token in your settings tab (https://huggingface.co/settings/tokens), set it as secret in your Google Colab and restart your session.\n",
            "You will be able to reuse this secret in all of your notebooks.\n",
            "Please note that authentication is recommended but still optional to access public models or datasets.\n",
            "  warnings.warn(\n",
            "<ipython-input-3-ced51490cc5e>:16: LangChainDeprecationWarning: Since Chroma 0.4.x the manual persistence method is no longer supported as docs are automatically persisted.\n",
            "  vector_store.persist()\n",
            "<ipython-input-3-ced51490cc5e>:51: LangChainDeprecationWarning: LangChain agents will continue to be supported, but it is recommended for new use cases to be built with LangGraph. LangGraph offers a more flexible and full-featured framework for building agents, including support for tool-calling, persistence of state, and human-in-the-loop workflows. For details, refer to the `LangGraph documentation <https://langchain-ai.github.io/langgraph/>`_ as well as guides for `Migrating from AgentExecutor <https://python.langchain.com/docs/how_to/migrate_agent/>`_ and LangGraph's `Pre-built ReAct agent <https://langchain-ai.github.io/langgraph/how-tos/create-react-agent/>`_.\n",
            "  agent = initialize_agent(tools, llm, agent=AgentType.ZERO_SHOT_REACT_DESCRIPTION, verbose=True)\n",
            "<ipython-input-3-ced51490cc5e>:61: LangChainDeprecationWarning: The method `Chain.run` was deprecated in langchain 0.1.0 and will be removed in 1.0. Use :meth:`~invoke` instead.\n",
            "  response = agent.run(question)\n"
          ]
        },
        {
          "output_type": "stream",
          "name": "stdout",
          "text": [
            "\n",
            "\n",
            "\u001b[1m> Entering new AgentExecutor chain...\u001b[0m\n",
            "\u001b[32;1m\u001b[1;3mThe user seems to be asking about the accounting qualities of Tesla, which could refer to the financial reporting practices or qualities of Tesla as a company. I should first check if this question is relevant to the document.\n",
            "\n",
            "Action: Relevance Check\n",
            "Action Input: what are the acccounting qualities in tesla?\u001b[0m\n",
            "Observation: \u001b[36;1m\u001b[1;3mTrue\u001b[0m\n",
            "Thought:"
          ]
        },
        {
          "output_type": "stream",
          "name": "stderr",
          "text": [
            "<ipython-input-3-ced51490cc5e>:20: LangChainDeprecationWarning: The method `BaseRetriever.get_relevant_documents` was deprecated in langchain-core 0.1.46 and will be removed in 1.0. Use :meth:`~invoke` instead.\n",
            "  docs = retriever.get_relevant_documents(question)\n"
          ]
        },
        {
          "output_type": "stream",
          "name": "stdout",
          "text": [
            "\u001b[32;1m\u001b[1;3mThe question is relevant to the document. Now, I should retrieve the top 3 relevant documents to find the answer.\n",
            "\n",
            "Action: Retrieval\n",
            "Action Input: what are the acccounting qualities in tesla?\u001b[0m\n",
            "Observation: \u001b[33;1m\u001b[1;3m[Document(metadata={'author': 'Kaleidoscope - kscope.io', 'creationdate': '2024-10-24T10:11:17+00:00', 'creator': 'Chromium', 'keywords': 'Tesla INC 10-Q', 'moddate': '2024-10-24T10:11:18+00:00', 'page': 1, 'page_label': '2', 'producer': 'KS - PDF Engine v1.2', 'source': '/content/10-Q_-_Tesla_INC_-_10-24-2024.pdf', 'subject': '10-Q filed 10/24/2024', 'title': 'Form 10-Q for Tesla INC filed 10/24/2024', 'total_pages': 41}, page_content=\"TESLA, INC.\\nFORM 10-Q FOR THE QUARTER ENDED SEPTEMBER 30, 2024\\nINDEX\\n  Page\\nPART I. FINANCIAL INFORMATION\\nItem 1. Financial Statements 4\\nConsolidated Balance Sheets 4\\nConsolidated Statements of Operations 5\\nConsolidated Statements of Comprehensive Income 6\\nConsolidated Statements of Redeemable Noncontrolling Interests and Equity 7\\nConsolidated Statements of Cash Flows 9\\nNotes to Consolidated Financial Statements 10\\nItem 2. Management's Discussion and Analysis of Financial Condition and Results of Operations 26\\nItem 3. Quantitative and Qualitative Disclosures about Market Risk 35\\nItem 4. Controls and Procedures 35\\nPART II. OTHER INFORMATION\\nItem 1. Legal Proceedings 36\\nItem 1A. Risk Factors 36\\nItem 2. Unregistered Sales of Equity Securities and Use of Proceeds 36\\nItem 3. Defaults Upon Senior Securities 36\\nItem 4. Mine Safety Disclosures 36\\nItem 5. Other Information 36\\nItem 6. Exhibits 37\\n \\nSignatures 38\\n1\"), Document(metadata={'author': 'Kaleidoscope - kscope.io', 'creationdate': '2024-10-24T10:11:17+00:00', 'creator': 'Chromium', 'keywords': 'Tesla INC 10-Q', 'moddate': '2024-10-24T10:11:18+00:00', 'page': 40, 'page_label': '41', 'producer': 'KS - PDF Engine v1.2', 'source': '/content/10-Q_-_Tesla_INC_-_10-24-2024.pdf', 'subject': '10-Q filed 10/24/2024', 'title': 'Form 10-Q for Tesla INC filed 10/24/2024', 'total_pages': 41}, page_content='Exhibit 32.1\\nSECTION 1350 CERTIFICATIONS\\nI, Elon Musk, certify, pursuant to 18 U.S.C. Section 1350, that, to my knowledge, the Quarterly Report of Tesla, Inc. on Form 10-Q for the quarterly period\\nended September 30, 2024, (i) fully complies with the requirements of Section 13(a) or 15(d) of the Securities Exchange Act of 1934 and (ii) that the\\ninformation contained in such Form 10-Q fairly presents, in all material respects, the financial condition and results of operations of Tesla, Inc.\\nDate: October 23, 2024 /s/ Elon Musk\\n Elon Musk\\n Chief Executive Officer\\n (Principal Executive Officer)\\nI, Vaibhav Taneja, certify, pursuant to 18 U.S.C. Section 1350, that, to my knowledge, the Quarterly Report of Tesla, Inc. on Form 10-Q for the quarterly\\nperiod ended September 30, 2024, (i) fully complies with the requirements of Section 13(a) or 15(d) of the Securities Exchange Act of 1934 and (ii) that\\nthe information contained in such Form 10-Q fairly presents, in all material respects, the financial condition and results of operations of Tesla, Inc.\\nDate: October 23, 2024 /s/ Vaibhav Taneja\\n Vaibhav Taneja\\n Chief Financial Officer\\n (Principal Financial Officer)'), Document(metadata={'author': 'Kaleidoscope - kscope.io', 'creationdate': '2024-10-24T10:11:17+00:00', 'creator': 'Chromium', 'keywords': 'Tesla INC 10-Q', 'moddate': '2024-10-24T10:11:18+00:00', 'page': 4, 'page_label': '5', 'producer': 'KS - PDF Engine v1.2', 'source': '/content/10-Q_-_Tesla_INC_-_10-24-2024.pdf', 'subject': '10-Q filed 10/24/2024', 'title': 'Form 10-Q for Tesla INC filed 10/24/2024', 'total_pages': 41}, page_content='Table of Contents\\nTesla, Inc.\\nConsolidated Statements of Operations\\n(in millions, except per share data)\\n(unaudited)\\n Three Months Ended September 30, Nine Months Ended September 30,\\n 2024 2023 2024 2023\\nRevenues\\nAutomotive sales $ 18,831 $ 18,582 $ 53,821 $ 57,879 \\nAutomotive regulatory credits 739 554 2,071 1,357 \\nAutomotive leasing 446 489 1,380 1,620 \\nTotal automotive revenues 20,016 19,625 57,272 60,856 \\nEnergy generation and storage 2,376 1,559 7,025 4,597 \\nServices and other 2,790 2,166 7,686 6,153 \\nTotal revenues 25,182 23,350 71,983 71,606 \\nCost of revenues\\nAutomotive sales 15,743 15,656 45,602 47,919 \\nAutomotive leasing 247 301 761 972 \\nTotal automotive cost of revenues 15,990 15,957 46,363 48,891 \\nEnergy generation and storage 1,651 1,178 5,157 3,770 \\nServices and other 2,544 2,037 7,192 5,723 \\nTotal cost of revenues 20,185 19,172 58,712 58,384 \\nGross profit 4,997 4,178 13,271 13,222 \\nOperating expenses\\nResearch and development 1,039 1,161 3,264 2,875 \\nSelling, general and administrative 1,186 1,253 3,837 3,520 \\nRestructuring and other 55 — 677 — \\nTotal operating expenses 2,280 2,414 7,778 6,395 \\nIncome from operations 2,717 1,764 5,493 6,827 \\nInterest income 429 282 1,127 733 \\nInterest expense (92) (38) (254) (95)\\nOther (expense) income, net (270) 37 (142) 317 \\nIncome before income taxes 2,784 2,045 6,224 7,782 \\nProvision for income taxes 601 167 1,403 751 \\nNet income 2,183 1,878 4,821 7,031 \\nNet income (loss) attributable to noncontrolling interests and redeemablenoncontrolling interests in subsidiaries 16 25 47 (38)\\nNet income attributable to common stockholders $ 2,167 $ 1,853 $ 4,774 $ 7,069 \\n \\nNet income per share of common stock attributable to common stockholders\\nBasic $ 0.68 $ 0.58 $ 1.51 $ 2.23 \\nDiluted $ 0.62 $ 0.53 $ 1.38 $ 2.03 \\nWeighted average shares used in computing net income per share of commonstock\\nBasic 3,198 3,176 3,192 3,171\\nDiluted 3,497 3,493 3,489 3,481\\nThe accompanying notes are an integral part of these consolidated financial statements.\\n5')]\u001b[0m\n",
            "Thought:\u001b[32;1m\u001b[1;3mBased on the retrieved documents, I can see that they are financial statements and reports related to Tesla. I should now generate an answer based on these documents.\n",
            "\n",
            "Action: Answer Generation\n",
            "Action Input: what are the acccounting qualities in tesla?\u001b[0m"
          ]
        },
        {
          "output_type": "stream",
          "name": "stderr",
          "text": [
            "<ipython-input-3-ced51490cc5e>:30: LangChainDeprecationWarning: The method `BaseChatModel.predict` was deprecated in langchain-core 0.1.7 and will be removed in 1.0. Use :meth:`~invoke` instead.\n",
            "  return llm.predict(prompt)\n"
          ]
        },
        {
          "output_type": "stream",
          "name": "stdout",
          "text": [
            "\n",
            "Observation: \u001b[38;5;200m\u001b[1;3mBased on the provided financial statements, the following are some of the accounting qualities that can be observed in Tesla, Inc.:\n",
            "\n",
            "1. Relevance: The financial statements provide information that is useful in making economic decisions, such as the company's revenues, cost of revenues, gross profit, operating expenses, income before and after taxes, and net income.\n",
            "2. Reliability: The financial statements appear to be prepared in accordance with generally accepted accounting principles (GAAP), which enhances their reliability. The company has also engaged an independent auditor to audit its financial statements.\n",
            "3. Comparability: The financial statements present the company's financial performance and position for the current and prior-year periods, allowing users to compare and analyze the company's performance over time.\n",
            "4. Consistency: The company has applied consistent accounting principles and methods in the preparation of the financial statements for the current and prior-year periods, which enhances the comparability of the financial statements.\n",
            "5. Materiality: The financial statements appear to present all material information, including the company's revenues, cost of revenues, gross profit, operating expenses, income before and after taxes, and net income.\n",
            "6. Understandability: The financial statements are presented in a clear and concise manner, allowing users to understand the company's financial performance and position. The company has also provided notes to the financial statements that explain certain items and provide additional details.\u001b[0m\n",
            "Thought:\u001b[32;1m\u001b[1;3mI have generated an answer based on the retrieved documents. I should now validate this answer to ensure its accuracy.\n",
            "\n",
            "Action: Validation\n",
            "Action Input: what are the acccounting qualities in tesla?\u001b[0m\n",
            "Observation: \u001b[36;1m\u001b[1;3mTrue\u001b[0m\n",
            "Thought:\u001b[32;1m\u001b[1;3mThe validation confirms that the generated answer is correct. I should now store this correct answer in the feedback storage for future reference.\n",
            "\n",
            "Action: Feedback Storage\n",
            "Action Input: what are the acccounting qualities in tesla?\u001b[0mWould you find this result helpful? (yes/no): yes\n",
            "Feedback stored in vector database.\n",
            "\n",
            "Observation: \u001b[33;1m\u001b[1;3mNone\u001b[0m\n",
            "Thought:\u001b[32;1m\u001b[1;3mI now know the final answer\n",
            "Final Answer: The accounting qualities observed in Tesla, Inc. based on the provided financial statements include relevance, reliability, comparability, consistency, materiality, and understandability.\u001b[0m\n",
            "\n",
            "\u001b[1m> Finished chain.\u001b[0m\n",
            "The accounting qualities observed in Tesla, Inc. based on the provided financial statements include relevance, reliability, comparability, consistency, materiality, and understandability.\n"
          ]
        }
      ]
    },
    {
      "cell_type": "code",
      "source": [
        "result"
      ],
      "metadata": {
        "colab": {
          "base_uri": "https://localhost:8080/",
          "height": 35
        },
        "id": "3Bn0B99GBroM",
        "outputId": "5dfdf9df-038f-4f4c-c0e6-86bcebcc3de8"
      },
      "execution_count": null,
      "outputs": [
        {
          "output_type": "execute_result",
          "data": {
            "text/plain": [
              "'The accounting qualities observed in Tesla, Inc. based on the provided financial statements include relevance, reliability, comparability, consistency, materiality, and understandability.'"
            ],
            "application/vnd.google.colaboratory.intrinsic+json": {
              "type": "string"
            }
          },
          "metadata": {},
          "execution_count": 5
        }
      ]
    },
    {
      "cell_type": "markdown",
      "source": [
        "##Another Approach for Langchain"
      ],
      "metadata": {
        "id": "N9L-DVGjKu6c"
      }
    },
    {
      "cell_type": "code",
      "source": [
        "from langchain.document_loaders import PyPDFLoader\n",
        "from langchain.agents import AgentType, initialize_agent\n",
        "from langchain.tools import Tool\n",
        "from langchain.memory import ConversationBufferMemory\n",
        "from langchain.vectorstores import Chroma\n",
        "from sentence_transformers import CrossEncoder\n",
        "from langchain.embeddings import HuggingFaceEmbeddings\n",
        "from langchain_groq import ChatGroq\n",
        "\n",
        "# Load and process document\n",
        "def load_document(file_path):\n",
        "    loader = PyPDFLoader(file_path)\n",
        "    pages = loader.load_and_split()\n",
        "    return pages\n",
        "\n",
        "# Store document in vector database\n",
        "def create_vector_store(pages):\n",
        "    embeddings = HuggingFaceEmbeddings(model_name='sentence-transformers/all-MiniLM-L6-v2')\n",
        "    vector_store = Chroma.from_documents(pages, embeddings, persist_directory='./chroma_db')\n",
        "    vector_store.persist()\n",
        "    return vector_store\n",
        "\n",
        "# Relevance check tool\n",
        "def relevance_tool(question, retriever):\n",
        "    docs = retriever.get_relevant_documents(question)\n",
        "    return len(docs) > 0\n",
        "\n",
        "# Load CrossEncoder model for ranking\n",
        "reranker = CrossEncoder(\"cross-encoder/ms-marco-MiniLM-L-6-v2\")\n",
        "\n",
        "def retrieval_tool(question, retriever, top_k=3):\n",
        "    \"\"\"Retrieve top_k documents and re-rank them.\"\"\"\n",
        "    docs = retriever.get_relevant_documents(question)  # Retrieve docs\n",
        "\n",
        "    if not docs:\n",
        "        return []\n",
        "\n",
        "    # Prepare input pairs for re-ranking\n",
        "    query_doc_pairs = [[question, doc.page_content] for doc in docs]\n",
        "\n",
        "    # Compute relevance scores\n",
        "    scores = reranker.predict(query_doc_pairs)\n",
        "\n",
        "    # Sort documents by score (higher is better)\n",
        "    ranked_docs = sorted(zip(docs, scores), key=lambda x: x[1], reverse=True)\n",
        "\n",
        "    # Return the top-ranked documents\n",
        "    return [doc for doc, score in ranked_docs[:top_k]]\n",
        "\n",
        "# Answer generation\n",
        "def answer_generation_tool(question, retrieved_docs, llm):\n",
        "    context = \"\\n\".join([doc.page_content for doc in retrieved_docs])\n",
        "    prompt = f\"Context: {context}\\n\\nQuestion: {question}\\n\\nAnswer:\"\n",
        "    return llm.predict(prompt)\n",
        "\n",
        "# Answer validation\n",
        "def validation_tool(answer):\n",
        "    return answer is not None and len(answer.strip()) > 0\n",
        "\n",
        "# User feedback storage\n",
        "def feedback_tool(answer, vector_store):\n",
        "    user_feedback = input(\"Would you find this result helpful? (yes/no): \")\n",
        "    if user_feedback.lower() == \"yes\":\n",
        "        vector_store.add_texts([answer])\n",
        "        print(\"Feedback stored in vector database.\")\n",
        "    else:\n",
        "        print(\"Feedback not stored.\")\n",
        "\n",
        "# Create and initialize agents\n",
        "def create_agents(retriever, llm, vector_store):\n",
        "    tools = [\n",
        "        Tool(name=\"Relevance Check\", func=lambda q: relevance_tool(q, retriever), description=\"Checks if the question is relevant to the document\"),\n",
        "        Tool(name=\"Retrieval\", func=lambda q: retrieval_tool(q, retriever), description=\"Retrieves and re-ranks the top 3 relevant documents\"),\n",
        "        Tool(name=\"Answer Generation\", func=lambda q: answer_generation_tool(q, retrieval_tool(q, retriever), llm), description=\"Generates an answer based on retrieved documents\"),\n",
        "        Tool(name=\"Validation\", func=lambda ans: validation_tool(ans), description=\"Validates the generated answer\"),\n",
        "        Tool(name=\"Feedback Storage\", func=lambda ans: feedback_tool(ans, vector_store), description=\"Stores correct answers in vector database if user approves\"),\n",
        "    ]\n",
        "    agent = initialize_agent(tools, llm, agent=AgentType.ZERO_SHOT_REACT_DESCRIPTION, verbose=True)\n",
        "    return agent\n",
        "\n",
        "# Process user question\n",
        "def process_question(file_path, question):\n",
        "    pages = load_document(file_path)\n",
        "    vector_store = create_vector_store(pages)\n",
        "    retriever = vector_store.as_retriever()\n",
        "    llm = ChatGroq(\n",
        "        temperature=0,\n",
        "        groq_api_key='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',\n",
        "        model_name='mixtral-8x7b-32768'\n",
        "\n",
        "    ) # Initialize LLM\n",
        "    agent = create_agents(retriever, llm, vector_store)\n",
        "    response = agent.run(question)\n",
        "    return response\n"
      ],
      "metadata": {
        "id": "fp17NnZ0FvFv"
      },
      "execution_count": null,
      "outputs": []
    },
    {
      "cell_type": "code",
      "source": [
        "question = \"what are different revenue segments in tesla?\"\n",
        "result = process_question(\"/content/10-Q_-_Tesla_INC_-_10-24-2024.pdf\", question)\n",
        "print(result)"
      ],
      "metadata": {
        "colab": {
          "base_uri": "https://localhost:8080/"
        },
        "id": "MSVMxKq_F3AO",
        "outputId": "f5cbab10-ee11-4b6d-d5ad-a7658e933d4c"
      },
      "execution_count": null,
      "outputs": [
        {
          "output_type": "stream",
          "name": "stderr",
          "text": [
            "<ipython-input-6-c74a2e5cf311>:18: LangChainDeprecationWarning: The class `HuggingFaceEmbeddings` was deprecated in LangChain 0.2.2 and will be removed in 1.0. An updated version of the class exists in the :class:`~langchain-huggingface package and should be used instead. To use it run `pip install -U :class:`~langchain-huggingface` and import as `from :class:`~langchain_huggingface import HuggingFaceEmbeddings``.\n",
            "  embeddings = HuggingFaceEmbeddings(model_name='sentence-transformers/all-MiniLM-L6-v2')\n"
          ]
        },
        {
          "output_type": "stream",
          "name": "stdout",
          "text": [
            "\n",
            "\n",
            "\u001b[1m> Entering new AgentExecutor chain...\u001b[0m\n",
            "\u001b[32;1m\u001b[1;3mThis question is relevant to the document as it asks about different parts of Tesla's revenue. I will first use the Relevance Check tool to confirm this.\n",
            "\n",
            "Action: Relevance Check\n",
            "Action Input: what are different revenue segments in tesla?\u001b[0m\n",
            "Observation: \u001b[36;1m\u001b[1;3mTrue\u001b[0m\n",
            "Thought:\u001b[32;1m\u001b[1;3mThe question is relevant to the document. Now, I will use the Retrieval tool to find the top 3 relevant documents that can help answer this question.\n",
            "\n",
            "Action: Retrieval\n",
            "Action Input: what are different revenue segments in tesla?\u001b[0m\n",
            "Observation: \u001b[33;1m\u001b[1;3m[Document(metadata={'author': 'Kaleidoscope - kscope.io', 'creationdate': '2024-10-24T10:11:17+00:00', 'creator': 'Chromium', 'keywords': 'Tesla INC 10-Q', 'moddate': '2024-10-24T10:11:18+00:00', 'page': 4, 'page_label': '5', 'producer': 'KS - PDF Engine v1.2', 'source': '/content/10-Q_-_Tesla_INC_-_10-24-2024.pdf', 'subject': '10-Q filed 10/24/2024', 'title': 'Form 10-Q for Tesla INC filed 10/24/2024', 'total_pages': 41}, page_content='Table of Contents\\nTesla, Inc.\\nConsolidated Statements of Operations\\n(in millions, except per share data)\\n(unaudited)\\n Three Months Ended September 30, Nine Months Ended September 30,\\n 2024 2023 2024 2023\\nRevenues\\nAutomotive sales $ 18,831 $ 18,582 $ 53,821 $ 57,879 \\nAutomotive regulatory credits 739 554 2,071 1,357 \\nAutomotive leasing 446 489 1,380 1,620 \\nTotal automotive revenues 20,016 19,625 57,272 60,856 \\nEnergy generation and storage 2,376 1,559 7,025 4,597 \\nServices and other 2,790 2,166 7,686 6,153 \\nTotal revenues 25,182 23,350 71,983 71,606 \\nCost of revenues\\nAutomotive sales 15,743 15,656 45,602 47,919 \\nAutomotive leasing 247 301 761 972 \\nTotal automotive cost of revenues 15,990 15,957 46,363 48,891 \\nEnergy generation and storage 1,651 1,178 5,157 3,770 \\nServices and other 2,544 2,037 7,192 5,723 \\nTotal cost of revenues 20,185 19,172 58,712 58,384 \\nGross profit 4,997 4,178 13,271 13,222 \\nOperating expenses\\nResearch and development 1,039 1,161 3,264 2,875 \\nSelling, general and administrative 1,186 1,253 3,837 3,520 \\nRestructuring and other 55 — 677 — \\nTotal operating expenses 2,280 2,414 7,778 6,395 \\nIncome from operations 2,717 1,764 5,493 6,827 \\nInterest income 429 282 1,127 733 \\nInterest expense (92) (38) (254) (95)\\nOther (expense) income, net (270) 37 (142) 317 \\nIncome before income taxes 2,784 2,045 6,224 7,782 \\nProvision for income taxes 601 167 1,403 751 \\nNet income 2,183 1,878 4,821 7,031 \\nNet income (loss) attributable to noncontrolling interests and redeemablenoncontrolling interests in subsidiaries 16 25 47 (38)\\nNet income attributable to common stockholders $ 2,167 $ 1,853 $ 4,774 $ 7,069 \\n \\nNet income per share of common stock attributable to common stockholders\\nBasic $ 0.68 $ 0.58 $ 1.51 $ 2.23 \\nDiluted $ 0.62 $ 0.53 $ 1.38 $ 2.03 \\nWeighted average shares used in computing net income per share of commonstock\\nBasic 3,198 3,176 3,192 3,171\\nDiluted 3,497 3,493 3,489 3,481\\nThe accompanying notes are an integral part of these consolidated financial statements.\\n5'), Document(metadata={'author': 'Kaleidoscope - kscope.io', 'creationdate': '2024-10-24T10:11:17+00:00', 'creator': 'Chromium', 'keywords': 'Tesla INC 10-Q', 'moddate': '2024-10-24T10:11:18+00:00', 'page': 4, 'page_label': '5', 'producer': 'KS - PDF Engine v1.2', 'source': '/content/10-Q_-_Tesla_INC_-_10-24-2024.pdf', 'subject': '10-Q filed 10/24/2024', 'title': 'Form 10-Q for Tesla INC filed 10/24/2024', 'total_pages': 41}, page_content='Table of Contents\\nTesla, Inc.\\nConsolidated Statements of Operations\\n(in millions, except per share data)\\n(unaudited)\\n Three Months Ended September 30, Nine Months Ended September 30,\\n 2024 2023 2024 2023\\nRevenues\\nAutomotive sales $ 18,831 $ 18,582 $ 53,821 $ 57,879 \\nAutomotive regulatory credits 739 554 2,071 1,357 \\nAutomotive leasing 446 489 1,380 1,620 \\nTotal automotive revenues 20,016 19,625 57,272 60,856 \\nEnergy generation and storage 2,376 1,559 7,025 4,597 \\nServices and other 2,790 2,166 7,686 6,153 \\nTotal revenues 25,182 23,350 71,983 71,606 \\nCost of revenues\\nAutomotive sales 15,743 15,656 45,602 47,919 \\nAutomotive leasing 247 301 761 972 \\nTotal automotive cost of revenues 15,990 15,957 46,363 48,891 \\nEnergy generation and storage 1,651 1,178 5,157 3,770 \\nServices and other 2,544 2,037 7,192 5,723 \\nTotal cost of revenues 20,185 19,172 58,712 58,384 \\nGross profit 4,997 4,178 13,271 13,222 \\nOperating expenses\\nResearch and development 1,039 1,161 3,264 2,875 \\nSelling, general and administrative 1,186 1,253 3,837 3,520 \\nRestructuring and other 55 — 677 — \\nTotal operating expenses 2,280 2,414 7,778 6,395 \\nIncome from operations 2,717 1,764 5,493 6,827 \\nInterest income 429 282 1,127 733 \\nInterest expense (92) (38) (254) (95)\\nOther (expense) income, net (270) 37 (142) 317 \\nIncome before income taxes 2,784 2,045 6,224 7,782 \\nProvision for income taxes 601 167 1,403 751 \\nNet income 2,183 1,878 4,821 7,031 \\nNet income (loss) attributable to noncontrolling interests and redeemablenoncontrolling interests in subsidiaries 16 25 47 (38)\\nNet income attributable to common stockholders $ 2,167 $ 1,853 $ 4,774 $ 7,069 \\n \\nNet income per share of common stock attributable to common stockholders\\nBasic $ 0.68 $ 0.58 $ 1.51 $ 2.23 \\nDiluted $ 0.62 $ 0.53 $ 1.38 $ 2.03 \\nWeighted average shares used in computing net income per share of commonstock\\nBasic 3,198 3,176 3,192 3,171\\nDiluted 3,497 3,493 3,489 3,481\\nThe accompanying notes are an integral part of these consolidated financial statements.\\n5'), Document(metadata={'author': 'Kaleidoscope - kscope.io', 'creationdate': '2024-10-24T10:11:17+00:00', 'creator': 'Chromium', 'keywords': 'Tesla INC 10-Q', 'moddate': '2024-10-24T10:11:18+00:00', 'page': 4, 'page_label': '5', 'producer': 'KS - PDF Engine v1.2', 'source': '/content/10-Q_-_Tesla_INC_-_10-24-2024.pdf', 'subject': '10-Q filed 10/24/2024', 'title': 'Form 10-Q for Tesla INC filed 10/24/2024', 'total_pages': 41}, page_content='Table of Contents\\nTesla, Inc.\\nConsolidated Statements of Operations\\n(in millions, except per share data)\\n(unaudited)\\n Three Months Ended September 30, Nine Months Ended September 30,\\n 2024 2023 2024 2023\\nRevenues\\nAutomotive sales $ 18,831 $ 18,582 $ 53,821 $ 57,879 \\nAutomotive regulatory credits 739 554 2,071 1,357 \\nAutomotive leasing 446 489 1,380 1,620 \\nTotal automotive revenues 20,016 19,625 57,272 60,856 \\nEnergy generation and storage 2,376 1,559 7,025 4,597 \\nServices and other 2,790 2,166 7,686 6,153 \\nTotal revenues 25,182 23,350 71,983 71,606 \\nCost of revenues\\nAutomotive sales 15,743 15,656 45,602 47,919 \\nAutomotive leasing 247 301 761 972 \\nTotal automotive cost of revenues 15,990 15,957 46,363 48,891 \\nEnergy generation and storage 1,651 1,178 5,157 3,770 \\nServices and other 2,544 2,037 7,192 5,723 \\nTotal cost of revenues 20,185 19,172 58,712 58,384 \\nGross profit 4,997 4,178 13,271 13,222 \\nOperating expenses\\nResearch and development 1,039 1,161 3,264 2,875 \\nSelling, general and administrative 1,186 1,253 3,837 3,520 \\nRestructuring and other 55 — 677 — \\nTotal operating expenses 2,280 2,414 7,778 6,395 \\nIncome from operations 2,717 1,764 5,493 6,827 \\nInterest income 429 282 1,127 733 \\nInterest expense (92) (38) (254) (95)\\nOther (expense) income, net (270) 37 (142) 317 \\nIncome before income taxes 2,784 2,045 6,224 7,782 \\nProvision for income taxes 601 167 1,403 751 \\nNet income 2,183 1,878 4,821 7,031 \\nNet income (loss) attributable to noncontrolling interests and redeemablenoncontrolling interests in subsidiaries 16 25 47 (38)\\nNet income attributable to common stockholders $ 2,167 $ 1,853 $ 4,774 $ 7,069 \\n \\nNet income per share of common stock attributable to common stockholders\\nBasic $ 0.68 $ 0.58 $ 1.51 $ 2.23 \\nDiluted $ 0.62 $ 0.53 $ 1.38 $ 2.03 \\nWeighted average shares used in computing net income per share of commonstock\\nBasic 3,198 3,176 3,192 3,171\\nDiluted 3,497 3,493 3,489 3,481\\nThe accompanying notes are an integral part of these consolidated financial statements.\\n5')]\u001b[0m\n",
            "Thought:\u001b[32;1m\u001b[1;3mThe top 3 relevant documents all contain financial statements for Tesla Inc. for different periods. They include a breakdown of revenues into different segments such as automotive sales, automotive regulatory credits, automotive leasing, energy generation and storage, and services and other. I will now use the Answer Generation tool to summarize the different revenue segments from the retrieved documents.\n",
            "\n",
            "Action: Answer Generation\n",
            "Action Input: What are the different revenue segments in Tesla?\u001b[0m\n",
            "Observation: \u001b[38;5;200m\u001b[1;3mTesla's revenue segments include:\n",
            "\n",
            "1. Automotive sales: This segment includes the sale of electric vehicles such as Model S, Model X, Model 3, and Model Y.\n",
            "2. Automotive regulatory credits: This segment includes the sale of regulatory credits to other automakers who need to offset their emissions.\n",
            "3. Automotive leasing: This segment includes revenues generated from leasing electric vehicles to customers.\n",
            "4. Energy generation and storage: This segment includes the sale of energy generation and storage products such as solar panels, solar roofs, and Powerwall batteries.\n",
            "5. Services and other: This segment includes revenues generated from services such as vehicle maintenance and repair, sales of merchandise, and revenues from Tesla's digital platform, Supercharger, and other services.\u001b[0m\n",
            "Thought:\u001b[32;1m\u001b[1;3mI now have enough information to provide a final answer.\n",
            "\n",
            "Final Answer: Tesla's revenue segments include automotive sales, automotive regulatory credits, automotive leasing, energy generation and storage, and services and other.\u001b[0m\n",
            "\n",
            "\u001b[1m> Finished chain.\u001b[0m\n",
            "Tesla's revenue segments include automotive sales, automotive regulatory credits, automotive leasing, energy generation and storage, and services and other.\n"
          ]
        }
      ]
    },
    {
      "cell_type": "code",
      "source": [
        "pip install gradio"
      ],
      "metadata": {
        "id": "3MzZV9tbmt8O"
      },
      "execution_count": null,
      "outputs": []
    },
    {
      "cell_type": "markdown",
      "source": [
        "##Tried with Gradio UI"
      ],
      "metadata": {
        "id": "rK4zUVdbK0BN"
      }
    },
    {
      "cell_type": "code",
      "source": [
        "import gradio as gr\n",
        "from langchain.document_loaders import PyPDFLoader\n",
        "from langchain.agents import AgentType, initialize_agent\n",
        "from langchain.tools import Tool\n",
        "from langchain.memory import ConversationBufferMemory\n",
        "from langchain.embeddings import HuggingFaceBgeEmbeddings\n",
        "from langchain.vectorstores import Chroma\n",
        "from langchain_groq import ChatGroq\n",
        "\n",
        "# Load and process document\n",
        "def load_document(file_path):\n",
        "    loader = PyPDFLoader(file_path)\n",
        "    pages = loader.load_and_split()\n",
        "    return pages\n",
        "\n",
        "# Store document in vector database\n",
        "def create_vector_store(pages):\n",
        "    embeddings = HuggingFaceBgeEmbeddings(model_name='sentence-transformers/all-MiniLM-L6-v2')\n",
        "    vector_store = Chroma.from_documents(pages, embeddings, persist_directory='./chroma_db')\n",
        "    vector_store.persist()\n",
        "    return vector_store\n",
        "\n",
        "# Relevance Check\n",
        "def relevance_tool(question, retriever):\n",
        "    docs = retriever.get_relevant_documents(question)\n",
        "    return len(docs) > 0\n",
        "\n",
        "# Retrieval with Re-ranking\n",
        "def retrieval_tool(question, retriever, top_k=3):\n",
        "    docs = retriever.get_relevant_documents(question)\n",
        "    return docs[:top_k]\n",
        "\n",
        "# Answer Generation\n",
        "def answer_generation_tool(question, retrieved_docs, llm):\n",
        "    context = \"\\n\".join([doc.page_content for doc in retrieved_docs])\n",
        "    prompt = f\"Context: {context}\\n\\nQuestion: {question}\\n\\nAnswer:\"\n",
        "    return llm.predict(prompt)\n",
        "\n",
        "# Answer Validation\n",
        "def validation_tool(answer):\n",
        "    return answer is not None and len(answer.strip()) > 0\n",
        "\n",
        "# Feedback Storage\n",
        "def feedback_tool(answer, vector_store):\n",
        "    user_feedback = input(\"Would you find this result helpful? (yes/no): \")\n",
        "    if user_feedback.lower() == \"yes\":\n",
        "        vector_store.add_texts([answer])\n",
        "        print(\"Feedback stored in vector database.\")\n",
        "    else:\n",
        "        print(\"Feedback not stored.\")\n",
        "\n",
        "# Create Agents\n",
        "def create_agents(retriever, llm, vector_store):\n",
        "    tools = [\n",
        "        Tool(name=\"Relevance Check\", func=lambda q: relevance_tool(q, retriever), description=\"Checks if the question is relevant to the document\"),\n",
        "        Tool(name=\"Retrieval\", func=lambda q: retrieval_tool(q, retriever), description=\"Retrieves the top 3 relevant documents\"),\n",
        "        Tool(name=\"Answer Generation\", func=lambda q: answer_generation_tool(q, retrieval_tool(q, retriever), llm), description=\"Generates an answer\"),\n",
        "        Tool(name=\"Validation\", func=lambda ans: validation_tool(ans), description=\"Validates the generated answer\"),\n",
        "        Tool(name=\"Feedback Storage\", func=lambda ans: feedback_tool(ans, vector_store), description=\"Stores correct answers if user approves\"),\n",
        "    ]\n",
        "    agent = initialize_agent(tools, llm, agent=AgentType.ZERO_SHOT_REACT_DESCRIPTION, verbose=True)\n",
        "    return agent\n",
        "\n",
        "# Load LLM (Replace with your preferred model)\n",
        "llm = ChatGroq(\n",
        "    temperature=0,\n",
        "    groq_api_key='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',\n",
        "    model_name='mixtral-8x7b-32768'\n",
        ")\n",
        "\n",
        "# Store document and retriever globally\n",
        "vector_store = None\n",
        "retriever = None\n",
        "\n",
        "# File Upload Handling\n",
        "def upload_pdf(file):\n",
        "    global vector_store, retriever\n",
        "    file_path = file.name\n",
        "    pages = load_document(file_path)\n",
        "    vector_store = create_vector_store(pages)\n",
        "    retriever = vector_store.as_retriever()\n",
        "    return \"PDF uploaded and processed successfully!\"\n",
        "\n",
        "# Process Question\n",
        "def process_question(question):\n",
        "    global retriever, vector_store\n",
        "    if not retriever or not vector_store:\n",
        "        return \"Please upload a document first.\"\n",
        "    agent = create_agents(retriever, llm, vector_store)\n",
        "    response = agent.run(question)\n",
        "    return response\n",
        "\n",
        "# Gradio UI\n",
        "with gr.Blocks() as demo:\n",
        "    gr.Markdown(\"# Multi-Agent Document Q&A System\")\n",
        "    gr.Markdown(\"Upload a PDF, then ask questions about its content.\")\n",
        "\n",
        "    with gr.Row():\n",
        "        pdf_input = gr.File(label=\"Upload PDF Document\")\n",
        "        upload_button = gr.Button(\"Process PDF\")\n",
        "\n",
        "    question_input = gr.Textbox(label=\"Enter your question\")\n",
        "    answer_output = gr.Textbox(label=\"Answer\", interactive=False)\n",
        "    ask_button = gr.Button(\"Ask\")\n",
        "\n",
        "    upload_button.click(upload_pdf, inputs=[pdf_input], outputs=None)\n",
        "    ask_button.click(process_question, inputs=[question_input], outputs=[answer_output])\n",
        "\n",
        "demo.launch()\n"
      ],
      "metadata": {
        "colab": {
          "base_uri": "https://localhost:8080/",
          "height": 625
        },
        "id": "iyYSqmdhmpxB",
        "outputId": "35c4f7b5-4ebf-4242-c02f-7841c4daf172"
      },
      "execution_count": null,
      "outputs": [
        {
          "output_type": "stream",
          "name": "stdout",
          "text": [
            "Running Gradio in a Colab notebook requires sharing enabled. Automatically setting `share=True` (you can turn this off by setting `share=False` in `launch()` explicitly).\n",
            "\n",
            "Colab notebook detected. To show errors in colab notebook, set debug=True in launch()\n",
            "* Running on public URL: https://6c48ce4a502bf86afa.gradio.live\n",
            "\n",
            "This share link expires in 72 hours. For free permanent hosting and GPU upgrades, run `gradio deploy` from the terminal in the working directory to deploy to Hugging Face Spaces (https://huggingface.co/spaces)\n"
          ]
        },
        {
          "output_type": "display_data",
          "data": {
            "text/plain": [
              "<IPython.core.display.HTML object>"
            ],
            "text/html": [
              "<div><iframe src=\"https://6c48ce4a502bf86afa.gradio.live\" width=\"100%\" height=\"500\" allow=\"autoplay; camera; microphone; clipboard-read; clipboard-write;\" frameborder=\"0\" allowfullscreen></iframe></div>"
            ]
          },
          "metadata": {}
        },
        {
          "output_type": "execute_result",
          "data": {
            "text/plain": []
          },
          "metadata": {},
          "execution_count": 2
        }
      ]
    }
  ]
}